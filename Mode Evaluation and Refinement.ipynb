{
 "cells": [
  {
   "cell_type": "markdown",
   "metadata": {},
   "source": [
    "<h1>Module 5: Model Evaluation and Refinement</h1>\n",
    "\n",
    "We have built models and made predictions of vehicle prices. Now we will determine how accurate these predictions are. "
   ]
  },
  {
   "cell_type": "markdown",
   "metadata": {},
   "source": [
    "<h1>Table of content</h1>\n",
    "<ul>\n",
    "    <li><a href=\"#ref1\">Model Evaluation </a></li>\n",
    "    <li><a href=\"#ref2\">Over-fitting, Under-fitting and Model Selection </a></li>\n",
    "    <li><a href=\"#ref3\">Ridge Regression </a></li>\n",
    "    <li><a href=\"#ref4\">Grid Search</a></li>\n",
    "</ul>"
   ]
  },
  {
   "cell_type": "markdown",
   "metadata": {},
   "source": [
    "This dataset was hosted on IBM Cloud object click <a href=\"https://cocl.us/DA101EN_object_storage\">HERE</a> for free storage."
   ]
  },
  {
   "cell_type": "code",
   "execution_count": 151,
   "metadata": {},
   "outputs": [],
   "source": [
    "import pandas as pd\n",
    "import numpy as np\n",
    "\n",
    "# Import clean data \n",
    "path = 'https://s3-api.us-geo.objectstorage.softlayer.net/cf-courses-data/CognitiveClass/DA0101EN/module_5_auto.csv'\n",
    "df = pd.read_csv(path)"
   ]
  },
  {
   "cell_type": "code",
   "execution_count": 152,
   "metadata": {},
   "outputs": [],
   "source": [
    "df.to_csv('module_5_auto.csv')"
   ]
  },
  {
   "cell_type": "markdown",
   "metadata": {},
   "source": [
    " First lets only use numeric data "
   ]
  },
  {
   "cell_type": "code",
   "execution_count": 153,
   "metadata": {
    "collapsed": false,
    "jupyter": {
     "outputs_hidden": false
    }
   },
   "outputs": [
    {
     "data": {
      "text/html": [
       "<div>\n",
       "<style scoped>\n",
       "    .dataframe tbody tr th:only-of-type {\n",
       "        vertical-align: middle;\n",
       "    }\n",
       "\n",
       "    .dataframe tbody tr th {\n",
       "        vertical-align: top;\n",
       "    }\n",
       "\n",
       "    .dataframe thead th {\n",
       "        text-align: right;\n",
       "    }\n",
       "</style>\n",
       "<table border=\"1\" class=\"dataframe\">\n",
       "  <thead>\n",
       "    <tr style=\"text-align: right;\">\n",
       "      <th></th>\n",
       "      <th>Unnamed: 0</th>\n",
       "      <th>Unnamed: 0.1</th>\n",
       "      <th>symboling</th>\n",
       "      <th>normalized-losses</th>\n",
       "      <th>wheel-base</th>\n",
       "      <th>length</th>\n",
       "      <th>width</th>\n",
       "      <th>height</th>\n",
       "      <th>curb-weight</th>\n",
       "      <th>engine-size</th>\n",
       "      <th>...</th>\n",
       "      <th>stroke</th>\n",
       "      <th>compression-ratio</th>\n",
       "      <th>horsepower</th>\n",
       "      <th>peak-rpm</th>\n",
       "      <th>city-mpg</th>\n",
       "      <th>highway-mpg</th>\n",
       "      <th>price</th>\n",
       "      <th>city-L/100km</th>\n",
       "      <th>diesel</th>\n",
       "      <th>gas</th>\n",
       "    </tr>\n",
       "  </thead>\n",
       "  <tbody>\n",
       "    <tr>\n",
       "      <th>0</th>\n",
       "      <td>0</td>\n",
       "      <td>0</td>\n",
       "      <td>3</td>\n",
       "      <td>122</td>\n",
       "      <td>88.6</td>\n",
       "      <td>0.811148</td>\n",
       "      <td>0.890278</td>\n",
       "      <td>48.8</td>\n",
       "      <td>2548</td>\n",
       "      <td>130</td>\n",
       "      <td>...</td>\n",
       "      <td>2.68</td>\n",
       "      <td>9.0</td>\n",
       "      <td>111.0</td>\n",
       "      <td>5000.0</td>\n",
       "      <td>21</td>\n",
       "      <td>27</td>\n",
       "      <td>13495.0</td>\n",
       "      <td>11.190476</td>\n",
       "      <td>0</td>\n",
       "      <td>1</td>\n",
       "    </tr>\n",
       "    <tr>\n",
       "      <th>1</th>\n",
       "      <td>1</td>\n",
       "      <td>1</td>\n",
       "      <td>3</td>\n",
       "      <td>122</td>\n",
       "      <td>88.6</td>\n",
       "      <td>0.811148</td>\n",
       "      <td>0.890278</td>\n",
       "      <td>48.8</td>\n",
       "      <td>2548</td>\n",
       "      <td>130</td>\n",
       "      <td>...</td>\n",
       "      <td>2.68</td>\n",
       "      <td>9.0</td>\n",
       "      <td>111.0</td>\n",
       "      <td>5000.0</td>\n",
       "      <td>21</td>\n",
       "      <td>27</td>\n",
       "      <td>16500.0</td>\n",
       "      <td>11.190476</td>\n",
       "      <td>0</td>\n",
       "      <td>1</td>\n",
       "    </tr>\n",
       "    <tr>\n",
       "      <th>2</th>\n",
       "      <td>2</td>\n",
       "      <td>2</td>\n",
       "      <td>1</td>\n",
       "      <td>122</td>\n",
       "      <td>94.5</td>\n",
       "      <td>0.822681</td>\n",
       "      <td>0.909722</td>\n",
       "      <td>52.4</td>\n",
       "      <td>2823</td>\n",
       "      <td>152</td>\n",
       "      <td>...</td>\n",
       "      <td>3.47</td>\n",
       "      <td>9.0</td>\n",
       "      <td>154.0</td>\n",
       "      <td>5000.0</td>\n",
       "      <td>19</td>\n",
       "      <td>26</td>\n",
       "      <td>16500.0</td>\n",
       "      <td>12.368421</td>\n",
       "      <td>0</td>\n",
       "      <td>1</td>\n",
       "    </tr>\n",
       "    <tr>\n",
       "      <th>3</th>\n",
       "      <td>3</td>\n",
       "      <td>3</td>\n",
       "      <td>2</td>\n",
       "      <td>164</td>\n",
       "      <td>99.8</td>\n",
       "      <td>0.848630</td>\n",
       "      <td>0.919444</td>\n",
       "      <td>54.3</td>\n",
       "      <td>2337</td>\n",
       "      <td>109</td>\n",
       "      <td>...</td>\n",
       "      <td>3.40</td>\n",
       "      <td>10.0</td>\n",
       "      <td>102.0</td>\n",
       "      <td>5500.0</td>\n",
       "      <td>24</td>\n",
       "      <td>30</td>\n",
       "      <td>13950.0</td>\n",
       "      <td>9.791667</td>\n",
       "      <td>0</td>\n",
       "      <td>1</td>\n",
       "    </tr>\n",
       "    <tr>\n",
       "      <th>4</th>\n",
       "      <td>4</td>\n",
       "      <td>4</td>\n",
       "      <td>2</td>\n",
       "      <td>164</td>\n",
       "      <td>99.4</td>\n",
       "      <td>0.848630</td>\n",
       "      <td>0.922222</td>\n",
       "      <td>54.3</td>\n",
       "      <td>2824</td>\n",
       "      <td>136</td>\n",
       "      <td>...</td>\n",
       "      <td>3.40</td>\n",
       "      <td>8.0</td>\n",
       "      <td>115.0</td>\n",
       "      <td>5500.0</td>\n",
       "      <td>18</td>\n",
       "      <td>22</td>\n",
       "      <td>17450.0</td>\n",
       "      <td>13.055556</td>\n",
       "      <td>0</td>\n",
       "      <td>1</td>\n",
       "    </tr>\n",
       "  </tbody>\n",
       "</table>\n",
       "<p>5 rows × 21 columns</p>\n",
       "</div>"
      ],
      "text/plain": [
       "   Unnamed: 0  Unnamed: 0.1  symboling  normalized-losses  wheel-base  \\\n",
       "0           0             0          3                122        88.6   \n",
       "1           1             1          3                122        88.6   \n",
       "2           2             2          1                122        94.5   \n",
       "3           3             3          2                164        99.8   \n",
       "4           4             4          2                164        99.4   \n",
       "\n",
       "     length     width  height  curb-weight  engine-size  ...  stroke  \\\n",
       "0  0.811148  0.890278    48.8         2548          130  ...    2.68   \n",
       "1  0.811148  0.890278    48.8         2548          130  ...    2.68   \n",
       "2  0.822681  0.909722    52.4         2823          152  ...    3.47   \n",
       "3  0.848630  0.919444    54.3         2337          109  ...    3.40   \n",
       "4  0.848630  0.922222    54.3         2824          136  ...    3.40   \n",
       "\n",
       "   compression-ratio  horsepower  peak-rpm  city-mpg  highway-mpg    price  \\\n",
       "0                9.0       111.0    5000.0        21           27  13495.0   \n",
       "1                9.0       111.0    5000.0        21           27  16500.0   \n",
       "2                9.0       154.0    5000.0        19           26  16500.0   \n",
       "3               10.0       102.0    5500.0        24           30  13950.0   \n",
       "4                8.0       115.0    5500.0        18           22  17450.0   \n",
       "\n",
       "   city-L/100km  diesel  gas  \n",
       "0     11.190476       0    1  \n",
       "1     11.190476       0    1  \n",
       "2     12.368421       0    1  \n",
       "3      9.791667       0    1  \n",
       "4     13.055556       0    1  \n",
       "\n",
       "[5 rows x 21 columns]"
      ]
     },
     "execution_count": 153,
     "metadata": {},
     "output_type": "execute_result"
    }
   ],
   "source": [
    "df=df._get_numeric_data()\n",
    "df.head()"
   ]
  },
  {
   "cell_type": "markdown",
   "metadata": {},
   "source": [
    " Libraries for plotting "
   ]
  },
  {
   "cell_type": "code",
   "execution_count": 154,
   "metadata": {},
   "outputs": [],
   "source": [
    "%%capture\n",
    "! pip install ipywidgets"
   ]
  },
  {
   "cell_type": "code",
   "execution_count": 155,
   "metadata": {
    "collapsed": false,
    "jupyter": {
     "outputs_hidden": false
    }
   },
   "outputs": [],
   "source": [
    "from IPython.display import display\n",
    "from IPython.html import widgets \n",
    "from ipywidgets import interact, interactive, fixed, interact_manual"
   ]
  },
  {
   "cell_type": "markdown",
   "metadata": {},
   "source": [
    "<h2>Functions for plotting</h2>"
   ]
  },
  {
   "cell_type": "code",
   "execution_count": 156,
   "metadata": {
    "collapsed": false,
    "jupyter": {
     "outputs_hidden": false
    }
   },
   "outputs": [],
   "source": [
    "def DistributionPlot(RedFunction, BlueFunction, RedName, BlueName, Title):\n",
    "    width = 12\n",
    "    height = 10\n",
    "    plt.figure(figsize=(width, height))\n",
    "\n",
    "    ax1 = sns.distplot(RedFunction, hist=False, color=\"r\", label=RedName)\n",
    "    ax2 = sns.distplot(BlueFunction, hist=False, color=\"b\", label=BlueName, ax=ax1)\n",
    "\n",
    "    plt.title(Title)\n",
    "    plt.xlabel('Price (in dollars)')\n",
    "    plt.ylabel('Proportion of Cars')\n",
    "\n",
    "    plt.show()\n",
    "    plt.close()"
   ]
  },
  {
   "cell_type": "code",
   "execution_count": 157,
   "metadata": {
    "collapsed": false,
    "jupyter": {
     "outputs_hidden": false
    }
   },
   "outputs": [],
   "source": [
    "def PollyPlot(xtrain, xtest, y_train, y_test, lr,poly_transform):\n",
    "    width = 12\n",
    "    height = 10\n",
    "    plt.figure(figsize=(width, height))\n",
    "    \n",
    "    \n",
    "    #training data \n",
    "    #testing data \n",
    "    # lr:  linear regression object \n",
    "    #poly_transform:  polynomial transformation object \n",
    " \n",
    "    xmax=max([xtrain.values.max(), xtest.values.max()])\n",
    "\n",
    "    xmin=min([xtrain.values.min(), xtest.values.min()])\n",
    "\n",
    "    x=np.arange(xmin, xmax, 0.1)\n",
    "\n",
    "\n",
    "    plt.plot(xtrain, y_train, 'ro', label='Training Data')\n",
    "    plt.plot(xtest, y_test, 'go', label='Test Data')\n",
    "    plt.plot(x, lr.predict(poly_transform.fit_transform(x.reshape(-1, 1))), label='Predicted Function')\n",
    "    plt.ylim([-10000, 60000])\n",
    "    plt.ylabel('Price')\n",
    "    plt.legend()"
   ]
  },
  {
   "cell_type": "markdown",
   "metadata": {},
   "source": [
    "<h1 id=\"ref1\">Part 1: Training and Testing</h1>\n",
    "\n",
    "<p>An important step in testing your model is to split your data into training and testing data. We will place the target data <b>price</b> in a separate dataframe <b>y</b>:</p>"
   ]
  },
  {
   "cell_type": "code",
   "execution_count": 158,
   "metadata": {
    "collapsed": false,
    "jupyter": {
     "outputs_hidden": false
    }
   },
   "outputs": [],
   "source": [
    "y_data = df['price']"
   ]
  },
  {
   "cell_type": "markdown",
   "metadata": {},
   "source": [
    "drop price data in x data"
   ]
  },
  {
   "cell_type": "code",
   "execution_count": 159,
   "metadata": {},
   "outputs": [],
   "source": [
    "x_data=df.drop('price',axis=1)"
   ]
  },
  {
   "cell_type": "markdown",
   "metadata": {},
   "source": [
    "Now we randomly split our data into training and testing data  using the function <b>train_test_split</b>. "
   ]
  },
  {
   "cell_type": "code",
   "execution_count": 160,
   "metadata": {
    "collapsed": false,
    "jupyter": {
     "outputs_hidden": false
    }
   },
   "outputs": [
    {
     "name": "stdout",
     "output_type": "stream",
     "text": [
      "number of test samples : 31\n",
      "number of training samples: 170\n",
      "number of test samples : 31\n",
      "number of training samples: 170\n"
     ]
    }
   ],
   "source": [
    "from sklearn.model_selection import train_test_split\n",
    "\n",
    "\n",
    "x_train, x_test, y_train, y_test = train_test_split(x_data, y_data, test_size=0.15, random_state=1)\n",
    "\n",
    "\n",
    "print(\"number of test samples :\", x_test.shape[0])\n",
    "print(\"number of training samples:\",x_train.shape[0])\n",
    "print(\"number of test samples :\", y_test.shape[0])\n",
    "print(\"number of training samples:\",y_train.shape[0])"
   ]
  },
  {
   "cell_type": "markdown",
   "metadata": {},
   "source": [
    "The <b>test_size</b> parameter sets the proportion of data that is split into the testing set. In the above, the testing set is set to 10% of the total dataset. "
   ]
  },
  {
   "cell_type": "markdown",
   "metadata": {},
   "source": [
    "<div class=\"alert alert-danger alertdanger\" style=\"margin-top: 20px\">\n",
    "<h1> Question  #1):</h1>\n",
    "\n",
    "<b>Use the function \"train_test_split\" to split up the data set such that 40% of the data samples will be utilized for testing, set the parameter \"random_state\" equal to zero. The output of the function should be the following:  \"x_train_1\" , \"x_test_1\", \"y_train_1\" and  \"y_test_1\".</b>\n",
    "</div>"
   ]
  },
  {
   "cell_type": "code",
   "execution_count": 161,
   "metadata": {},
   "outputs": [
    {
     "name": "stdout",
     "output_type": "stream",
     "text": [
      "number of test samples : 81\n",
      "number of training samples: 120\n"
     ]
    }
   ],
   "source": [
    "# Write your code below and press Shift+Enter to execute \n",
    "x_train1, x_test1, y_train1, y_test1 = train_test_split(x_data, y_data, test_size=0.4, random_state=0)\n",
    "print(\"number of test samples :\", x_test1.shape[0])\n",
    "print(\"number of training samples:\",x_train1.shape[0])"
   ]
  },
  {
   "cell_type": "markdown",
   "metadata": {},
   "source": [
    "Let's import <b>LinearRegression</b> from the module <b>linear_model</b>."
   ]
  },
  {
   "cell_type": "code",
   "execution_count": 162,
   "metadata": {
    "collapsed": false,
    "jupyter": {
     "outputs_hidden": false
    }
   },
   "outputs": [],
   "source": [
    "from sklearn.linear_model import LinearRegression"
   ]
  },
  {
   "cell_type": "markdown",
   "metadata": {},
   "source": [
    " We create a Linear Regression object:"
   ]
  },
  {
   "cell_type": "code",
   "execution_count": 163,
   "metadata": {
    "collapsed": false,
    "jupyter": {
     "outputs_hidden": false
    }
   },
   "outputs": [],
   "source": [
    "lre=LinearRegression()"
   ]
  },
  {
   "cell_type": "markdown",
   "metadata": {},
   "source": [
    "we fit the model using the feature horsepower "
   ]
  },
  {
   "cell_type": "code",
   "execution_count": 164,
   "metadata": {
    "collapsed": false,
    "jupyter": {
     "outputs_hidden": false
    }
   },
   "outputs": [
    {
     "data": {
      "text/plain": [
       "LinearRegression(copy_X=True, fit_intercept=True, n_jobs=None,\n",
       "         normalize=False)"
      ]
     },
     "execution_count": 164,
     "metadata": {},
     "output_type": "execute_result"
    }
   ],
   "source": [
    "lre.fit(x_train[['horsepower']], y_train)"
   ]
  },
  {
   "cell_type": "markdown",
   "metadata": {},
   "source": [
    "Let's Calculate the R^2 on the test data:"
   ]
  },
  {
   "cell_type": "code",
   "execution_count": 165,
   "metadata": {
    "collapsed": false,
    "jupyter": {
     "outputs_hidden": false
    }
   },
   "outputs": [
    {
     "data": {
      "text/plain": [
       "0.707688374146705"
      ]
     },
     "execution_count": 165,
     "metadata": {},
     "output_type": "execute_result"
    }
   ],
   "source": [
    "lre.score(x_test[['horsepower']], y_test)"
   ]
  },
  {
   "cell_type": "markdown",
   "metadata": {},
   "source": [
    "we can see the R^2 is much smaller using the test data."
   ]
  },
  {
   "cell_type": "code",
   "execution_count": 166,
   "metadata": {
    "collapsed": false,
    "jupyter": {
     "outputs_hidden": false
    }
   },
   "outputs": [
    {
     "data": {
      "text/plain": [
       "0.6449517437659684"
      ]
     },
     "execution_count": 166,
     "metadata": {},
     "output_type": "execute_result"
    }
   ],
   "source": [
    "lre.score(x_train[['horsepower']], y_train)"
   ]
  },
  {
   "cell_type": "markdown",
   "metadata": {},
   "source": [
    "<div class=\"alert alert-danger alertdanger\" style=\"margin-top: 20px\">\n",
    "<h1> Question  #2): </h1>\n",
    "<b> \n",
    "Find the R^2  on the test data using 90% of the data for training data\n",
    "</b>\n",
    "</div>"
   ]
  },
  {
   "cell_type": "code",
   "execution_count": 167,
   "metadata": {
    "collapsed": false,
    "jupyter": {
     "outputs_hidden": false
    }
   },
   "outputs": [
    {
     "data": {
      "text/plain": [
       "0.7340722810055448"
      ]
     },
     "execution_count": 167,
     "metadata": {},
     "output_type": "execute_result"
    }
   ],
   "source": [
    "# Write your code below and press Shift+Enter to execute \n",
    "x_train2, x_test2, y_train2, y_test2 = train_test_split(x_data, y_data, test_size=0.10, random_state=0)\n",
    "lre.fit(x_train2[['horsepower']],y_train2)\n",
    "lre.score(x_test2[['horsepower']],y_test2)"
   ]
  },
  {
   "cell_type": "markdown",
   "metadata": {},
   "source": [
    " Sometimes you do not have sufficient testing data; as a result, you may want to perform Cross-validation. Let's  go over several methods that you can use for  Cross-validation. "
   ]
  },
  {
   "cell_type": "markdown",
   "metadata": {},
   "source": [
    "<h2>Cross-validation Score</h2>"
   ]
  },
  {
   "cell_type": "markdown",
   "metadata": {},
   "source": [
    "Lets import <b>model_selection</b> from the module <b>cross_val_score</b>."
   ]
  },
  {
   "cell_type": "code",
   "execution_count": 168,
   "metadata": {
    "collapsed": false,
    "jupyter": {
     "outputs_hidden": false
    }
   },
   "outputs": [],
   "source": [
    "from sklearn.model_selection import cross_val_score"
   ]
  },
  {
   "cell_type": "markdown",
   "metadata": {},
   "source": [
    "We input the object, the feature in this case ' horsepower', the target data (y_data). The parameter 'cv'  determines the number of folds; in this case 4. "
   ]
  },
  {
   "cell_type": "code",
   "execution_count": 169,
   "metadata": {
    "collapsed": false,
    "jupyter": {
     "outputs_hidden": false
    }
   },
   "outputs": [],
   "source": [
    "Rcross=cross_val_score(lre, x_data[['horsepower']], y_data, cv=4)"
   ]
  },
  {
   "cell_type": "markdown",
   "metadata": {},
   "source": [
    "The default scoring is R^2; each element in the array has the average  R^2 value in the fold:"
   ]
  },
  {
   "cell_type": "code",
   "execution_count": 170,
   "metadata": {
    "collapsed": false,
    "jupyter": {
     "outputs_hidden": false
    }
   },
   "outputs": [
    {
     "data": {
      "text/plain": [
       "array([0.7746232 , 0.51716687, 0.74785353, 0.04839605])"
      ]
     },
     "execution_count": 170,
     "metadata": {},
     "output_type": "execute_result"
    }
   ],
   "source": [
    "Rcross"
   ]
  },
  {
   "cell_type": "markdown",
   "metadata": {},
   "source": [
    " We can calculate the average and standard deviation of our estimate:"
   ]
  },
  {
   "cell_type": "code",
   "execution_count": 171,
   "metadata": {
    "collapsed": false,
    "jupyter": {
     "outputs_hidden": false
    }
   },
   "outputs": [
    {
     "name": "stdout",
     "output_type": "stream",
     "text": [
      "The mean of the folds are 0.522009915042119 and the standard deviation is 0.291183944475603\n"
     ]
    }
   ],
   "source": [
    "print(\"The mean of the folds are\", Rcross.mean(), \"and the standard deviation is\" , Rcross.std())"
   ]
  },
  {
   "cell_type": "markdown",
   "metadata": {},
   "source": [
    "We can use negative squared error as a score by setting the parameter  'scoring' metric to 'neg_mean_squared_error'. "
   ]
  },
  {
   "cell_type": "code",
   "execution_count": 172,
   "metadata": {
    "collapsed": false,
    "jupyter": {
     "outputs_hidden": false
    }
   },
   "outputs": [
    {
     "data": {
      "text/plain": [
       "array([20254142.84026702, 43745493.2650517 , 12539630.34014931,\n",
       "       17561927.72247591])"
      ]
     },
     "execution_count": 172,
     "metadata": {},
     "output_type": "execute_result"
    }
   ],
   "source": [
    "-1 * cross_val_score(lre,x_data[['horsepower']], y_data,cv=4,scoring='neg_mean_squared_error')"
   ]
  },
  {
   "cell_type": "markdown",
   "metadata": {},
   "source": [
    "<div class=\"alert alert-danger alertdanger\" style=\"margin-top: 20px\">\n",
    "<h1> Question  #3): </h1>\n",
    "<b> \n",
    "Calculate the average R^2 using two folds, find the average R^2 for the second fold utilizing the horsepower as a feature : \n",
    "</b>\n",
    "</div>"
   ]
  },
  {
   "cell_type": "code",
   "execution_count": 173,
   "metadata": {
    "collapsed": false,
    "jupyter": {
     "outputs_hidden": false
    }
   },
   "outputs": [
    {
     "data": {
      "text/plain": [
       "0.5166761697127429"
      ]
     },
     "execution_count": 173,
     "metadata": {},
     "output_type": "execute_result"
    }
   ],
   "source": [
    "# Write your code below and press Shift+Enter to execute \n",
    "Rcross2 =cross_val_score(lre,x_data[['horsepower']], y_data,cv=2)\n",
    "Rcross2.mean()"
   ]
  },
  {
   "cell_type": "markdown",
   "metadata": {},
   "source": [
    "You can also use the function 'cross_val_predict' to predict the output. The function splits up the data into the specified number of folds, using one fold to get a prediction while the rest of the folds are used as test data. First import the function:"
   ]
  },
  {
   "cell_type": "code",
   "execution_count": 174,
   "metadata": {},
   "outputs": [],
   "source": [
    "from sklearn.model_selection import cross_val_predict"
   ]
  },
  {
   "cell_type": "markdown",
   "metadata": {},
   "source": [
    "We input the object, the feature in this case <b>'horsepower'</b> , the target data <b>y_data</b>. The parameter 'cv' determines the number of folds; in this case 4. We can produce an output:"
   ]
  },
  {
   "cell_type": "code",
   "execution_count": 175,
   "metadata": {
    "collapsed": false,
    "jupyter": {
     "outputs_hidden": false
    }
   },
   "outputs": [
    {
     "data": {
      "text/plain": [
       "array([14141.63807508, 14141.63807508, 20814.29423473, 12745.03562306,\n",
       "       14762.35027598])"
      ]
     },
     "execution_count": 175,
     "metadata": {},
     "output_type": "execute_result"
    }
   ],
   "source": [
    "yhat = cross_val_predict(lre,x_data[['horsepower']], y_data,cv=4)\n",
    "yhat[0:5]"
   ]
  },
  {
   "cell_type": "markdown",
   "metadata": {},
   "source": [
    "<h1 id=\"ref2\">Part 2: Overfitting, Underfitting and Model Selection</h1>\n",
    "\n",
    "<p>It turns out that the test data sometimes referred to as the out of sample data is a much better measure of how well your model performs in the real world.  One reason for this is overfitting; let's go over some examples. It turns out these differences are more apparent in Multiple Linear Regression and Polynomial Regression so we will explore overfitting in that context.</p>"
   ]
  },
  {
   "cell_type": "markdown",
   "metadata": {},
   "source": [
    "Let's create Multiple linear regression objects and train the model using <b>'horsepower'</b>, <b>'curb-weight'</b>, <b>'engine-size'</b> and <b>'highway-mpg'</b> as features."
   ]
  },
  {
   "cell_type": "code",
   "execution_count": 176,
   "metadata": {
    "collapsed": false,
    "jupyter": {
     "outputs_hidden": false
    }
   },
   "outputs": [
    {
     "data": {
      "text/plain": [
       "LinearRegression(copy_X=True, fit_intercept=True, n_jobs=None,\n",
       "         normalize=False)"
      ]
     },
     "execution_count": 176,
     "metadata": {},
     "output_type": "execute_result"
    }
   ],
   "source": [
    "lr = LinearRegression()\n",
    "lr.fit(x_train[['horsepower', 'curb-weight', 'engine-size', 'highway-mpg']], y_train)"
   ]
  },
  {
   "cell_type": "markdown",
   "metadata": {},
   "source": [
    "Prediction using training data:"
   ]
  },
  {
   "cell_type": "code",
   "execution_count": 177,
   "metadata": {
    "collapsed": false,
    "jupyter": {
     "outputs_hidden": false
    }
   },
   "outputs": [
    {
     "data": {
      "text/plain": [
       "array([11927.70699817, 11236.71672034,  6436.91775515, 21890.22064982,\n",
       "       16667.18254832])"
      ]
     },
     "execution_count": 177,
     "metadata": {},
     "output_type": "execute_result"
    }
   ],
   "source": [
    "yhat_train = lr.predict(x_train[['horsepower', 'curb-weight', 'engine-size', 'highway-mpg']])\n",
    "yhat_train[0:5]"
   ]
  },
  {
   "cell_type": "markdown",
   "metadata": {},
   "source": [
    "Prediction using test data: "
   ]
  },
  {
   "cell_type": "code",
   "execution_count": 178,
   "metadata": {
    "collapsed": false,
    "jupyter": {
     "outputs_hidden": false
    }
   },
   "outputs": [
    {
     "data": {
      "text/plain": [
       "array([14141.63807508, 14141.63807508, 20814.29423473, 12745.03562306,\n",
       "       14762.35027598, 13986.46002486, 13986.46002486, 13986.46002486,\n",
       "       18641.80153159, 12589.85757284, 12589.85757284, 15693.41857732,\n",
       "       15693.41857732, 15693.41857732, 25159.27964101, 25159.27964101,\n",
       "       25159.27964101,  4365.42091095,  7779.33801589,  7779.33801589,\n",
       "        7468.98191544,  7468.98191544, 12745.03562306,  7468.98191544,\n",
       "        7468.98191544,  7468.98191544, 12745.03562306, 10572.54291992,\n",
       "       19417.69178271,  5917.2014132 ,  8710.40631723,  6227.55751364,\n",
       "        8710.40631723,  8710.40631723,  8710.40631723,  8710.40631723,\n",
       "       10262.18681948, 10262.18681948, 10262.18681948, 10262.18681948,\n",
       "       12589.85757284, 12434.67952262,  9020.76241768, 10882.89902037,\n",
       "       24228.21133966, 24228.21133966, 37573.52365895,  7468.98191544,\n",
       "        7468.98191544,  7468.98191544,  7468.98191544,  7191.77534249,\n",
       "       12625.21956696, 12625.21956696, 12625.21956696, 18223.31361641,\n",
       "        9826.17254223,  9826.17254223,  9826.17254223,  9826.17254223,\n",
       "        6533.17604255,  9826.17254223, 15753.56624165,  7850.37464243,\n",
       "       16247.5157166 , 16247.5157166 , 16247.5157166 , 16247.5157166 ,\n",
       "       21516.31011609, 21516.31011609, 26291.15504062, 26291.15504062,\n",
       "       24809.30661576,  7191.77534249,  7191.77534249,  7191.77534249,\n",
       "       12789.86939194, 15094.96694172, 10484.77184217, 19869.81186625,\n",
       "       19869.81186625, 19869.81186625, 10484.77184217, 10484.77184217,\n",
       "       15094.96694172, 15094.96694172,  7356.42516747,  5051.3276177 ,\n",
       "        7356.42516747,  7356.42516747,  7356.42516747,  7356.42516747,\n",
       "        7356.42516747,  7356.42516747,  7356.42516747,  7356.42516747,\n",
       "       11966.62026702, 11966.62026702, 21022.36064113, 21022.36064113,\n",
       "       21022.36064113, 23539.34585487, 30696.96845954, 23539.34585487,\n",
       "       12266.0902525 , 11908.20912227, 12266.0902525 , 11908.20912227,\n",
       "       11908.20912227, 11908.20912227, 11908.20912227, 11908.20912227,\n",
       "       12266.0902525 , 11908.20912227, 20318.41568276,  7076.81386411,\n",
       "       13160.79307808,  7076.81386411,  7076.81386411,  7076.81386411,\n",
       "       10655.62516645, 20855.23737811, 20497.35624788, 31949.55241536,\n",
       "       31949.55241536, 31949.55241536, 13564.51120037, 13564.51120037,\n",
       "       14592.31759902, 14592.31759902, 14592.31759902, 14592.31759902,\n",
       "       23539.34585487, 23539.34585487,  7255.75442923,  7971.51668969,\n",
       "        7971.51668969,  9581.98177575,  9581.98177575, 11729.26855715,\n",
       "        9581.98177575, 14771.25816414,  9581.98177575, 11729.26855715,\n",
       "        9581.98177575, 14771.25816414,  6003.17047341,  6003.17047341,\n",
       "        6003.17047341,  6003.17047341,  6003.17047341,  5656.56792662,\n",
       "        7157.55710947,  7157.55710947,  4530.82603948,  4530.82603948,\n",
       "        7157.55710947,  7157.55710947,  7157.55710947,  7157.55710947,\n",
       "        7157.55710947, 15037.75031945, 15037.75031945, 15788.24491087,\n",
       "       15788.24491087, 15788.24491087, 15788.24491087, 15788.24491087,\n",
       "       15788.24491087, 11285.27736231,  7720.42805304, 11285.27736231,\n",
       "       11285.27736231, 11285.27736231, 24231.30906442, 24231.30906442,\n",
       "       23293.19082514, 23293.19082514,  3780.33144805,  9971.91182732,\n",
       "        3780.33144805,  9971.91182732,  9971.91182732,  6782.30981376,\n",
       "       12786.26654517, 10910.0300666 , 10910.0300666 , 14662.50302373,\n",
       "        6782.30981376, 10534.78277089, 15412.99761516, 15412.99761516,\n",
       "       15412.99761516, 15412.99761516, 24418.93271228, 24418.93271228,\n",
       "       15412.99761516, 24043.68541657, 19165.47057229, 13912.00843231,\n",
       "       15412.99761516])"
      ]
     },
     "execution_count": 178,
     "metadata": {},
     "output_type": "execute_result"
    }
   ],
   "source": [
    "yhat_test = lr.predict(x_test[['horsepower', 'curb-weight', 'engine-size', 'highway-mpg']])\n",
    "yhat_test[0:5]\n",
    "\n",
    "yhat"
   ]
  },
  {
   "cell_type": "markdown",
   "metadata": {},
   "source": [
    "Let's perform some model evaluation using our training and testing data separately. First  we import the seaborn and matplotlibb library for plotting."
   ]
  },
  {
   "cell_type": "code",
   "execution_count": 181,
   "metadata": {},
   "outputs": [],
   "source": [
    "import matplotlib.pyplot as plt\n",
    "%matplotlib inline\n",
    "import seaborn as sns"
   ]
  },
  {
   "cell_type": "markdown",
   "metadata": {},
   "source": [
    "Let's examine the distribution of the predicted values of the training data."
   ]
  },
  {
   "cell_type": "code",
   "execution_count": 180,
   "metadata": {
    "collapsed": false,
    "jupyter": {
     "outputs_hidden": false
    }
   },
   "outputs": [
    {
     "data": {
      "image/png": "[encoded data removed]",
      "text/plain": [
       "<Figure size 864x720 with 1 Axes>"
      ]
     },
     "metadata": {
      "needs_background": "light"
     },
     "output_type": "display_data"
    }
   ],
   "source": [
    "Title = 'Distribution  Plot of  Predicted Value Using Training Data vs Training Data Distribution'\n",
    "DistributionPlot(y_train, yhat_train, \"Actual Values (Train)\", \"Predicted Values (Train)\", Title)"
   ]
  },
  {
   "cell_type": "markdown",
   "metadata": {},
   "source": [
    "Figure 1: Plot of predicted values using the training data compared to the training data. "
   ]
  },
  {
   "cell_type": "markdown",
   "metadata": {},
   "source": [
    "So far the model seems to be doing well in learning from the training dataset. But what happens when the model encounters new data from the testing dataset? When the model generates new values from the test data, we see the distribution of the predicted values is much different from the actual target values. "
   ]
  },
  {
   "cell_type": "code",
   "execution_count": 182,
   "metadata": {
    "collapsed": false,
    "jupyter": {
     "outputs_hidden": false
    }
   },
   "outputs": [
    {
     "data": {
      "image/png": "[encoded data removed]",
      "text/plain": [
       "<Figure size 864x720 with 1 Axes>"
      ]
     },
     "metadata": {
      "needs_background": "light"
     },
     "output_type": "display_data"
    }
   ],
   "source": [
    "Title='Distribution  Plot of  Predicted Value Using Test Data vs Data Distribution of Test Data'\n",
    "DistributionPlot(y_test,yhat_test,\"Actual Values (Test)\",\"Predicted Values (Test)\",Title)"
   ]
  },
  {
   "cell_type": "markdown",
   "metadata": {},
   "source": [
    "Figur 2: Plot of predicted value using the test data compared to the test data. "
   ]
  },
  {
   "cell_type": "markdown",
   "metadata": {},
   "source": [
    "<p>Comparing Figure 1 and Figure 2; it is evident the distribution of the test data in Figure 1 is much better at fitting the data. This difference in Figure 2 is apparent where the ranges are from 5000 to 15 000. This is where the distribution shape is exceptionally different. Let's see if polynomial regression also exhibits a drop in the prediction accuracy when analysing the test dataset.</p>"
   ]
  },
  {
   "cell_type": "code",
   "execution_count": 183,
   "metadata": {
    "collapsed": false,
    "jupyter": {
     "outputs_hidden": false
    }
   },
   "outputs": [],
   "source": [
    "from sklearn.preprocessing import PolynomialFeatures"
   ]
  },
  {
   "cell_type": "markdown",
   "metadata": {},
   "source": [
    "<h4>Overfitting</h4>\n",
    "<p>Overfitting occurs when the model fits the noise, not the underlying process. Therefore when testing your model using the test-set, your model does not perform as well as it is modelling noise, not the underlying process that generated the relationship. Let's create a degree 5 polynomial model.</p>"
   ]
  },
  {
   "cell_type": "markdown",
   "metadata": {},
   "source": [
    "Let's use 55 percent of the data for testing and the rest for training:"
   ]
  },
  {
   "cell_type": "code",
   "execution_count": 184,
   "metadata": {
    "collapsed": false,
    "jupyter": {
     "outputs_hidden": false
    }
   },
   "outputs": [],
   "source": [
    "x_train, x_test, y_train, y_test = train_test_split(x_data, y_data, test_size=0.55, random_state=0)"
   ]
  },
  {
   "cell_type": "markdown",
   "metadata": {},
   "source": [
    "We will perform a degree 5 polynomial transformation on the feature <b>'horse power'</b>. "
   ]
  },
  {
   "cell_type": "code",
   "execution_count": 185,
   "metadata": {
    "collapsed": false,
    "jupyter": {
     "outputs_hidden": false
    }
   },
   "outputs": [],
   "source": [
    "pr = PolynomialFeatures(degree=5)\n",
    "x_train_pr = pr.fit_transform(x_train[['horsepower']])\n",
    "x_test_pr = pr.transform(x_test[['horsepower']])"
   ]
  },
  {
   "cell_type": "markdown",
   "metadata": {},
   "source": [
    "Now let's create a linear regression model \"poly\" and train it."
   ]
  },
  {
   "cell_type": "code",
   "execution_count": 186,
   "metadata": {
    "collapsed": false,
    "jupyter": {
     "outputs_hidden": false
    }
   },
   "outputs": [
    {
     "data": {
      "text/plain": [
       "LinearRegression(copy_X=True, fit_intercept=True, n_jobs=None,\n",
       "         normalize=False)"
      ]
     },
     "execution_count": 186,
     "metadata": {},
     "output_type": "execute_result"
    }
   ],
   "source": [
    "poly = LinearRegression()\n",
    "poly.fit(x_train_pr, y_train)"
   ]
  },
  {
   "cell_type": "markdown",
   "metadata": {},
   "source": [
    "We can see the output of our model using the method  \"predict.\" then assign the values to \"yhat\"."
   ]
  },
  {
   "cell_type": "code",
   "execution_count": 187,
   "metadata": {
    "collapsed": false,
    "jupyter": {
     "outputs_hidden": false
    }
   },
   "outputs": [
    {
     "data": {
      "text/plain": [
       "array([   6441.63149709,    7052.89040859,   12145.78578642,\n",
       "         18348.86580864,   19587.72708626,   10017.73766308,\n",
       "         13855.95490843,    5664.75417402,   14316.03356325,\n",
       "          6441.63149709,    9771.76476675,   17037.26002524,\n",
       "          8088.09618818,    6492.66163535,   16626.20359853,\n",
       "         13855.95490843,    7755.28047196,   13855.95490843,\n",
       "         10259.36704503,    6109.23329137,    6109.23329137,\n",
       "         13914.36045139,   27209.88736941,    6441.63149709,\n",
       "          5701.45044438,   17037.26002524,   10017.73766308,\n",
       "         11169.57168312,   16240.1277742 ,   27209.88736941,\n",
       "         29000.19333876,   15126.45733288,    5664.75417402,\n",
       "         12145.78578642,   13162.54584366,   10726.88398837,\n",
       "         13855.95490843,   14104.12471105,   10726.88398837,\n",
       "         12478.73798802,    6266.58468583,   14385.69586975,\n",
       "         13162.54584366,   12145.78578642,   14143.18068394,\n",
       "          6836.69142546,   15745.45102236,    6109.23329137,\n",
       "          6109.23329137,   11966.64194725,   29400.95360051,\n",
       "         17037.26002524,   12914.22231977,   12478.73798802,\n",
       "          5664.75417402,    6109.23329137,    7755.28047196,\n",
       "          6441.63149709,   13042.50348048,    9771.76476675,\n",
       "         13855.95490843,   12478.73798802,   10017.73766308,\n",
       "          6441.63149709,    6441.63149709,    6266.58468583,\n",
       "         13042.50348048,   14143.18068394,    6109.23329137,\n",
       "          6266.58468583,   11966.64194725,    6266.58468583,\n",
       "          9269.92495015,   20989.31129419,    9269.92495015,\n",
       "          6266.58468583,   12145.78578642,   29000.19333876,\n",
       "         10726.88398837,   13914.36045139,   13855.95490843,\n",
       "       -514260.91507231,    9269.92495015,   14062.24840974,\n",
       "         12145.78578642,   14282.50857765,   18946.31826244,\n",
       "          9771.76476675,    7052.89040859,   15030.04116383,\n",
       "         11169.57168312,   13042.50348048,   21740.36829531,\n",
       "          6109.23329137,   20989.31129419,    8088.09618818,\n",
       "         21361.22449905,   13404.13526027,    6266.58468583,\n",
       "         12478.73798802,    6441.63149709,   14062.24840974,\n",
       "          6109.23329137,   13914.36045139,    6266.58468583,\n",
       "         12145.78578642,    6266.58468583,   14385.69586975,\n",
       "         14143.18068394,   12914.22231977,   19261.6943902 ])"
      ]
     },
     "execution_count": 187,
     "metadata": {},
     "output_type": "execute_result"
    }
   ],
   "source": [
    "yhat = poly.predict(x_test_pr)\n",
    "yhat"
   ]
  },
  {
   "cell_type": "markdown",
   "metadata": {},
   "source": [
    "Let's take the first five predicted values and compare it to the actual targets. "
   ]
  },
  {
   "cell_type": "code",
   "execution_count": 188,
   "metadata": {
    "collapsed": false,
    "jupyter": {
     "outputs_hidden": false
    }
   },
   "outputs": [
    {
     "name": "stdout",
     "output_type": "stream",
     "text": [
      "Predicted values: [   6441.63149709    7052.89040859   12145.78578642   18348.86580864\n",
      "   19587.72708626   10017.73766308   13855.95490843    5664.75417402\n",
      "   14316.03356325    6441.63149709    9771.76476675   17037.26002524\n",
      "    8088.09618818    6492.66163535   16626.20359853   13855.95490843\n",
      "    7755.28047196   13855.95490843   10259.36704503    6109.23329137\n",
      "    6109.23329137   13914.36045139   27209.88736941    6441.63149709\n",
      "    5701.45044438   17037.26002524   10017.73766308   11169.57168312\n",
      "   16240.1277742    27209.88736941   29000.19333876   15126.45733288\n",
      "    5664.75417402   12145.78578642   13162.54584366   10726.88398837\n",
      "   13855.95490843   14104.12471105   10726.88398837   12478.73798802\n",
      "    6266.58468583   14385.69586975   13162.54584366   12145.78578642\n",
      "   14143.18068394    6836.69142546   15745.45102236    6109.23329137\n",
      "    6109.23329137   11966.64194725   29400.95360051   17037.26002524\n",
      "   12914.22231977   12478.73798802    5664.75417402    6109.23329137\n",
      "    7755.28047196    6441.63149709   13042.50348048    9771.76476675\n",
      "   13855.95490843   12478.73798802   10017.73766308    6441.63149709\n",
      "    6441.63149709    6266.58468583   13042.50348048   14143.18068394\n",
      "    6109.23329137    6266.58468583   11966.64194725    6266.58468583\n",
      "    9269.92495015   20989.31129419    9269.92495015    6266.58468583\n",
      "   12145.78578642   29000.19333876   10726.88398837   13914.36045139\n",
      "   13855.95490843 -514260.91507231    9269.92495015   14062.24840974\n",
      "   12145.78578642   14282.50857765   18946.31826244    9771.76476675\n",
      "    7052.89040859   15030.04116383   11169.57168312   13042.50348048\n",
      "   21740.36829531    6109.23329137   20989.31129419    8088.09618818\n",
      "   21361.22449905   13404.13526027    6266.58468583   12478.73798802\n",
      "    6441.63149709   14062.24840974    6109.23329137   13914.36045139\n",
      "    6266.58468583   12145.78578642    6266.58468583   14385.69586975\n",
      "   14143.18068394   12914.22231977   19261.6943902 ]\n",
      "True values: [ 6295. 10698. 13860. 13499. 15750.  8495. 15250.  5348. 21105.  6938.\n",
      " 11245. 37028.  7995.  7898. 14869. 18920.  7129. 15040.  9095.  6189.\n",
      "  9495. 11694. 35550.  8058. 10795. 32528.  7975. 11595. 22018. 32250.\n",
      " 36880. 15645.  7898. 17075.  7957. 12290. 12170. 17450.  8189. 12440.\n",
      "  5118. 28176.  8558. 17950. 17669. 18344. 23875.  6669.  6692. 10198.\n",
      " 45400. 34028.  9995.  9549.  6918.  6692.  6855.  8238. 12945.  8845.\n",
      " 15510.  8949.  8195.  6575.  7198.  7799. 13645.  8449.  7395.  5499.\n",
      "  9960.  7349.  7126. 17199.  8013.  6849. 16900. 30760.  8921. 11259.\n",
      " 13295. 36000.  7775. 16845. 15580. 18280. 16500. 10245.  7603. 21485.\n",
      " 11048. 16925. 18420.  5389. 19045.  7775. 15998.  9295.  7499. 16630.\n",
      "  9258. 13415.  6695. 13495.  7999. 16695.  8249. 25552. 11549. 10345.\n",
      " 35056.]\n"
     ]
    }
   ],
   "source": [
    "print(\"Predicted values:\", yhat)\n",
    "print(\"True values:\", y_test.values)"
   ]
  },
  {
   "cell_type": "markdown",
   "metadata": {},
   "source": [
    "We will use the function \"PollyPlot\" that we defined at the beginning of the lab to display the training data, testing data, and the predicted function."
   ]
  },
  {
   "cell_type": "code",
   "execution_count": 189,
   "metadata": {
    "collapsed": false,
    "jupyter": {
     "outputs_hidden": false
    }
   },
   "outputs": [
    {
     "data": {
      "image/png": "[encoded data removed]",
      "text/plain": [
       "<Figure size 864x720 with 1 Axes>"
      ]
     },
     "metadata": {
      "needs_background": "light"
     },
     "output_type": "display_data"
    }
   ],
   "source": [
    "PollyPlot(x_train[['horsepower']], x_test[['horsepower']], y_train, y_test, poly,pr)"
   ]
  },
  {
   "cell_type": "markdown",
   "metadata": {},
   "source": [
    "Figur 4 A polynomial regression model, red dots represent training data, green dots represent test data, and the blue line represents the model prediction. "
   ]
  },
  {
   "cell_type": "markdown",
   "metadata": {},
   "source": [
    "We see that the estimated function appears to track the data but around 200 horsepower, the function begins to diverge from the data points. "
   ]
  },
  {
   "cell_type": "markdown",
   "metadata": {},
   "source": [
    " R^2 of the training data:"
   ]
  },
  {
   "cell_type": "code",
   "execution_count": 190,
   "metadata": {
    "collapsed": false,
    "jupyter": {
     "outputs_hidden": false
    }
   },
   "outputs": [
    {
     "data": {
      "text/plain": [
       "0.5682646621503102"
      ]
     },
     "execution_count": 190,
     "metadata": {},
     "output_type": "execute_result"
    }
   ],
   "source": [
    "poly.score(x_train_pr, y_train)"
   ]
  },
  {
   "cell_type": "markdown",
   "metadata": {},
   "source": [
    " R^2 of the test data:"
   ]
  },
  {
   "cell_type": "code",
   "execution_count": 191,
   "metadata": {
    "collapsed": false,
    "jupyter": {
     "outputs_hidden": false
    }
   },
   "outputs": [
    {
     "name": "stdout",
     "output_type": "stream",
     "text": [
      "[[1.00000000e+00 7.00000000e+01 4.90000000e+03 3.43000000e+05\n",
      "  2.40100000e+07 1.68070000e+09]\n",
      " [1.00000000e+00 7.30000000e+01 5.32900000e+03 3.89017000e+05\n",
      "  2.83982410e+07 2.07307159e+09]\n",
      " [1.00000000e+00 9.50000000e+01 9.02500000e+03 8.57375000e+05\n",
      "  8.14506250e+07 7.73780938e+09]\n",
      " [1.00000000e+00 1.52000000e+02 2.31040000e+04 3.51180800e+06\n",
      "  5.33794816e+08 8.11368120e+10]\n",
      " [1.00000000e+00 1.56000000e+02 2.43360000e+04 3.79641600e+06\n",
      "  5.92240896e+08 9.23895798e+10]\n",
      " [1.00000000e+00 8.50000000e+01 7.22500000e+03 6.14125000e+05\n",
      "  5.22006250e+07 4.43705312e+09]\n",
      " [1.00000000e+00 1.10000000e+02 1.21000000e+04 1.33100000e+06\n",
      "  1.46410000e+08 1.61051000e+10]\n",
      " [1.00000000e+00 6.20000000e+01 3.84400000e+03 2.38328000e+05\n",
      "  1.47763360e+07 9.16132832e+08]\n",
      " [1.00000000e+00 1.21000000e+02 1.46410000e+04 1.77156100e+06\n",
      "  2.14358881e+08 2.59374246e+10]\n",
      " [1.00000000e+00 7.00000000e+01 4.90000000e+03 3.43000000e+05\n",
      "  2.40100000e+07 1.68070000e+09]\n",
      " [1.00000000e+00 8.40000000e+01 7.05600000e+03 5.92704000e+05\n",
      "  4.97871360e+07 4.18211942e+09]\n",
      " [1.00000000e+00 2.07000000e+02 4.28490000e+04 8.86974300e+06\n",
      "  1.83603680e+09 3.80059618e+11]\n",
      " [1.00000000e+00 5.20000000e+01 2.70400000e+03 1.40608000e+05\n",
      "  7.31161600e+06 3.80204032e+08]\n",
      " [1.00000000e+00 5.60000000e+01 3.13600000e+03 1.75616000e+05\n",
      "  9.83449600e+06 5.50731776e+08]\n",
      " [1.00000000e+00 1.45000000e+02 2.10250000e+04 3.04862500e+06\n",
      "  4.42050625e+08 6.40973406e+10]\n",
      " [1.00000000e+00 1.10000000e+02 1.21000000e+04 1.33100000e+06\n",
      "  1.46410000e+08 1.61051000e+10]\n",
      " [1.00000000e+00 7.60000000e+01 5.77600000e+03 4.38976000e+05\n",
      "  3.33621760e+07 2.53552538e+09]\n",
      " [1.00000000e+00 1.10000000e+02 1.21000000e+04 1.33100000e+06\n",
      "  1.46410000e+08 1.61051000e+10]\n",
      " [1.00000000e+00 8.60000000e+01 7.39600000e+03 6.36056000e+05\n",
      "  5.47008160e+07 4.70427018e+09]\n",
      " [1.00000000e+00 6.80000000e+01 4.62400000e+03 3.14432000e+05\n",
      "  2.13813760e+07 1.45393357e+09]\n",
      " [1.00000000e+00 6.80000000e+01 4.62400000e+03 3.14432000e+05\n",
      "  2.13813760e+07 1.45393357e+09]\n",
      " [1.00000000e+00 1.11000000e+02 1.23210000e+04 1.36763100e+06\n",
      "  1.51807041e+08 1.68505816e+10]\n",
      " [1.00000000e+00 1.76000000e+02 3.09760000e+04 5.45177600e+06\n",
      "  9.59512576e+08 1.68874213e+11]\n",
      " [1.00000000e+00 7.00000000e+01 4.90000000e+03 3.43000000e+05\n",
      "  2.40100000e+07 1.68070000e+09]\n",
      " [1.00000000e+00 6.40000000e+01 4.09600000e+03 2.62144000e+05\n",
      "  1.67772160e+07 1.07374182e+09]\n",
      " [1.00000000e+00 2.07000000e+02 4.28490000e+04 8.86974300e+06\n",
      "  1.83603680e+09 3.80059618e+11]\n",
      " [1.00000000e+00 8.50000000e+01 7.22500000e+03 6.14125000e+05\n",
      "  5.22006250e+07 4.43705312e+09]\n",
      " [1.00000000e+00 9.00000000e+01 8.10000000e+03 7.29000000e+05\n",
      "  6.56100000e+07 5.90490000e+09]\n",
      " [1.00000000e+00 1.43000000e+02 2.04490000e+04 2.92420700e+06\n",
      "  4.18161601e+08 5.97971089e+10]\n",
      " [1.00000000e+00 1.76000000e+02 3.09760000e+04 5.45177600e+06\n",
      "  9.59512576e+08 1.68874213e+11]\n",
      " [1.00000000e+00 1.82000000e+02 3.31240000e+04 6.02856800e+06\n",
      "  1.09719938e+09 1.99690286e+11]\n",
      " [1.00000000e+00 1.35000000e+02 1.82250000e+04 2.46037500e+06\n",
      "  3.32150625e+08 4.48403344e+10]\n",
      " [1.00000000e+00 6.20000000e+01 3.84400000e+03 2.38328000e+05\n",
      "  1.47763360e+07 9.16132832e+08]\n",
      " [1.00000000e+00 9.50000000e+01 9.02500000e+03 8.57375000e+05\n",
      "  8.14506250e+07 7.73780938e+09]\n",
      " [1.00000000e+00 1.02000000e+02 1.04040000e+04 1.06120800e+06\n",
      "  1.08243216e+08 1.10408080e+10]\n",
      " [1.00000000e+00 8.80000000e+01 7.74400000e+03 6.81472000e+05\n",
      "  5.99695360e+07 5.27731917e+09]\n",
      " [1.00000000e+00 1.10000000e+02 1.21000000e+04 1.33100000e+06\n",
      "  1.46410000e+08 1.61051000e+10]\n",
      " [1.00000000e+00 1.15000000e+02 1.32250000e+04 1.52087500e+06\n",
      "  1.74900625e+08 2.01135719e+10]\n",
      " [1.00000000e+00 8.80000000e+01 7.74400000e+03 6.81472000e+05\n",
      "  5.99695360e+07 5.27731917e+09]\n",
      " [1.00000000e+00 9.70000000e+01 9.40900000e+03 9.12673000e+05\n",
      "  8.85292810e+07 8.58734026e+09]\n",
      " [1.00000000e+00 6.90000000e+01 4.76100000e+03 3.28509000e+05\n",
      "  2.26671210e+07 1.56403135e+09]\n",
      " [1.00000000e+00 1.23000000e+02 1.51290000e+04 1.86086700e+06\n",
      "  2.28886641e+08 2.81530568e+10]\n",
      " [1.00000000e+00 1.02000000e+02 1.04040000e+04 1.06120800e+06\n",
      "  1.08243216e+08 1.10408080e+10]\n",
      " [1.00000000e+00 9.50000000e+01 9.02500000e+03 8.57375000e+05\n",
      "  8.14506250e+07 7.73780938e+09]\n",
      " [1.00000000e+00 1.16000000e+02 1.34560000e+04 1.56089600e+06\n",
      "  1.81063936e+08 2.10034166e+10]\n",
      " [1.00000000e+00 7.20000000e+01 5.18400000e+03 3.73248000e+05\n",
      "  2.68738560e+07 1.93491763e+09]\n",
      " [1.00000000e+00 1.40000000e+02 1.96000000e+04 2.74400000e+06\n",
      "  3.84160000e+08 5.37824000e+10]\n",
      " [1.00000000e+00 6.80000000e+01 4.62400000e+03 3.14432000e+05\n",
      "  2.13813760e+07 1.45393357e+09]\n",
      " [1.00000000e+00 6.80000000e+01 4.62400000e+03 3.14432000e+05\n",
      "  2.13813760e+07 1.45393357e+09]\n",
      " [1.00000000e+00 9.40000000e+01 8.83600000e+03 8.30584000e+05\n",
      "  7.80748960e+07 7.33904022e+09]\n",
      " [1.00000000e+00 1.84000000e+02 3.38560000e+04 6.22950400e+06\n",
      "  1.14622874e+09 2.10906087e+11]\n",
      " [1.00000000e+00 2.07000000e+02 4.28490000e+04 8.86974300e+06\n",
      "  1.83603680e+09 3.80059618e+11]\n",
      " [1.00000000e+00 1.00000000e+02 1.00000000e+04 1.00000000e+06\n",
      "  1.00000000e+08 1.00000000e+10]\n",
      " [1.00000000e+00 9.70000000e+01 9.40900000e+03 9.12673000e+05\n",
      "  8.85292810e+07 8.58734026e+09]\n",
      " [1.00000000e+00 6.20000000e+01 3.84400000e+03 2.38328000e+05\n",
      "  1.47763360e+07 9.16132832e+08]\n",
      " [1.00000000e+00 6.80000000e+01 4.62400000e+03 3.14432000e+05\n",
      "  2.13813760e+07 1.45393357e+09]\n",
      " [1.00000000e+00 7.60000000e+01 5.77600000e+03 4.38976000e+05\n",
      "  3.33621760e+07 2.53552538e+09]\n",
      " [1.00000000e+00 7.00000000e+01 4.90000000e+03 3.43000000e+05\n",
      "  2.40100000e+07 1.68070000e+09]\n",
      " [1.00000000e+00 1.01000000e+02 1.02010000e+04 1.03030100e+06\n",
      "  1.04060401e+08 1.05101005e+10]\n",
      " [1.00000000e+00 8.40000000e+01 7.05600000e+03 5.92704000e+05\n",
      "  4.97871360e+07 4.18211942e+09]\n",
      " [1.00000000e+00 1.10000000e+02 1.21000000e+04 1.33100000e+06\n",
      "  1.46410000e+08 1.61051000e+10]\n",
      " [1.00000000e+00 9.70000000e+01 9.40900000e+03 9.12673000e+05\n",
      "  8.85292810e+07 8.58734026e+09]\n",
      " [1.00000000e+00 8.50000000e+01 7.22500000e+03 6.14125000e+05\n",
      "  5.22006250e+07 4.43705312e+09]\n",
      " [1.00000000e+00 7.00000000e+01 4.90000000e+03 3.43000000e+05\n",
      "  2.40100000e+07 1.68070000e+09]\n",
      " [1.00000000e+00 7.00000000e+01 4.90000000e+03 3.43000000e+05\n",
      "  2.40100000e+07 1.68070000e+09]\n",
      " [1.00000000e+00 6.90000000e+01 4.76100000e+03 3.28509000e+05\n",
      "  2.26671210e+07 1.56403135e+09]\n",
      " [1.00000000e+00 1.01000000e+02 1.02010000e+04 1.03030100e+06\n",
      "  1.04060401e+08 1.05101005e+10]\n",
      " [1.00000000e+00 1.16000000e+02 1.34560000e+04 1.56089600e+06\n",
      "  1.81063936e+08 2.10034166e+10]\n",
      " [1.00000000e+00 6.80000000e+01 4.62400000e+03 3.14432000e+05\n",
      "  2.13813760e+07 1.45393357e+09]\n",
      " [1.00000000e+00 6.90000000e+01 4.76100000e+03 3.28509000e+05\n",
      "  2.26671210e+07 1.56403135e+09]\n",
      " [1.00000000e+00 9.40000000e+01 8.83600000e+03 8.30584000e+05\n",
      "  7.80748960e+07 7.33904022e+09]\n",
      " [1.00000000e+00 6.90000000e+01 4.76100000e+03 3.28509000e+05\n",
      "  2.26671210e+07 1.56403135e+09]\n",
      " [1.00000000e+00 8.20000000e+01 6.72400000e+03 5.51368000e+05\n",
      "  4.52121760e+07 3.70739843e+09]\n",
      " [1.00000000e+00 1.60000000e+02 2.56000000e+04 4.09600000e+06\n",
      "  6.55360000e+08 1.04857600e+11]\n",
      " [1.00000000e+00 8.20000000e+01 6.72400000e+03 5.51368000e+05\n",
      "  4.52121760e+07 3.70739843e+09]\n",
      " [1.00000000e+00 6.90000000e+01 4.76100000e+03 3.28509000e+05\n",
      "  2.26671210e+07 1.56403135e+09]\n",
      " [1.00000000e+00 9.50000000e+01 9.02500000e+03 8.57375000e+05\n",
      "  8.14506250e+07 7.73780938e+09]\n",
      " [1.00000000e+00 1.82000000e+02 3.31240000e+04 6.02856800e+06\n",
      "  1.09719938e+09 1.99690286e+11]\n",
      " [1.00000000e+00 8.80000000e+01 7.74400000e+03 6.81472000e+05\n",
      "  5.99695360e+07 5.27731917e+09]\n",
      " [1.00000000e+00 1.11000000e+02 1.23210000e+04 1.36763100e+06\n",
      "  1.51807041e+08 1.68505816e+10]\n",
      " [1.00000000e+00 1.10000000e+02 1.21000000e+04 1.33100000e+06\n",
      "  1.46410000e+08 1.61051000e+10]\n",
      " [1.00000000e+00 2.62000000e+02 6.86440000e+04 1.79847280e+07\n",
      "  4.71199874e+09 1.23454367e+12]\n",
      " [1.00000000e+00 8.20000000e+01 6.72400000e+03 5.51368000e+05\n",
      "  4.52121760e+07 3.70739843e+09]\n",
      " [1.00000000e+00 1.14000000e+02 1.29960000e+04 1.48154400e+06\n",
      "  1.68896016e+08 1.92541458e+10]\n",
      " [1.00000000e+00 9.50000000e+01 9.02500000e+03 8.57375000e+05\n",
      "  8.14506250e+07 7.73780938e+09]\n",
      " [1.00000000e+00 1.20000000e+02 1.44000000e+04 1.72800000e+06\n",
      "  2.07360000e+08 2.48832000e+10]\n",
      " [1.00000000e+00 1.54000000e+02 2.37160000e+04 3.65226400e+06\n",
      "  5.62448656e+08 8.66170930e+10]\n",
      " [1.00000000e+00 8.40000000e+01 7.05600000e+03 5.92704000e+05\n",
      "  4.97871360e+07 4.18211942e+09]\n",
      " [1.00000000e+00 7.30000000e+01 5.32900000e+03 3.89017000e+05\n",
      "  2.83982410e+07 2.07307159e+09]\n",
      " [1.00000000e+00 1.34000000e+02 1.79560000e+04 2.40610400e+06\n",
      "  3.22417936e+08 4.32040034e+10]\n",
      " [1.00000000e+00 9.00000000e+01 8.10000000e+03 7.29000000e+05\n",
      "  6.56100000e+07 5.90490000e+09]\n",
      " [1.00000000e+00 1.01000000e+02 1.02010000e+04 1.03030100e+06\n",
      "  1.04060401e+08 1.05101005e+10]\n",
      " [1.00000000e+00 1.62000000e+02 2.62440000e+04 4.25152800e+06\n",
      "  6.88747536e+08 1.11577101e+11]\n",
      " [1.00000000e+00 6.80000000e+01 4.62400000e+03 3.14432000e+05\n",
      "  2.13813760e+07 1.45393357e+09]\n",
      " [1.00000000e+00 1.60000000e+02 2.56000000e+04 4.09600000e+06\n",
      "  6.55360000e+08 1.04857600e+11]\n",
      " [1.00000000e+00 5.20000000e+01 2.70400000e+03 1.40608000e+05\n",
      "  7.31161600e+06 3.80204032e+08]\n",
      " [1.00000000e+00 1.61000000e+02 2.59210000e+04 4.17328100e+06\n",
      "  6.71898241e+08 1.08175617e+11]\n",
      " [1.00000000e+00 1.04256158e+02 1.08693464e+04 1.13319629e+06\n",
      "  1.18142691e+08 1.23171030e+10]\n",
      " [1.00000000e+00 6.90000000e+01 4.76100000e+03 3.28509000e+05\n",
      "  2.26671210e+07 1.56403135e+09]\n",
      " [1.00000000e+00 9.70000000e+01 9.40900000e+03 9.12673000e+05\n",
      "  8.85292810e+07 8.58734026e+09]\n",
      " [1.00000000e+00 7.00000000e+01 4.90000000e+03 3.43000000e+05\n",
      "  2.40100000e+07 1.68070000e+09]\n",
      " [1.00000000e+00 1.14000000e+02 1.29960000e+04 1.48154400e+06\n",
      "  1.68896016e+08 1.92541458e+10]\n",
      " [1.00000000e+00 6.80000000e+01 4.62400000e+03 3.14432000e+05\n",
      "  2.13813760e+07 1.45393357e+09]\n",
      " [1.00000000e+00 1.11000000e+02 1.23210000e+04 1.36763100e+06\n",
      "  1.51807041e+08 1.68505816e+10]\n",
      " [1.00000000e+00 6.90000000e+01 4.76100000e+03 3.28509000e+05\n",
      "  2.26671210e+07 1.56403135e+09]\n",
      " [1.00000000e+00 9.50000000e+01 9.02500000e+03 8.57375000e+05\n",
      "  8.14506250e+07 7.73780938e+09]\n",
      " [1.00000000e+00 6.90000000e+01 4.76100000e+03 3.28509000e+05\n",
      "  2.26671210e+07 1.56403135e+09]\n",
      " [1.00000000e+00 1.23000000e+02 1.51290000e+04 1.86086700e+06\n",
      "  2.28886641e+08 2.81530568e+10]\n",
      " [1.00000000e+00 1.16000000e+02 1.34560000e+04 1.56089600e+06\n",
      "  1.81063936e+08 2.10034166e+10]\n",
      " [1.00000000e+00 1.00000000e+02 1.00000000e+04 1.00000000e+06\n",
      "  1.00000000e+08 1.00000000e+10]\n",
      " [1.00000000e+00 1.55000000e+02 2.40250000e+04 3.72387500e+06\n",
      "  5.77200625e+08 8.94660969e+10]]\n"
     ]
    }
   ],
   "source": [
    "poly.score(x_test_pr, y_test)\n",
    "print(x_test_pr)"
   ]
  },
  {
   "cell_type": "markdown",
   "metadata": {},
   "source": [
    "We see the R^2 for the training data is 0.5567 while the R^2 on the test data was -29.87.  The lower the R^2, the worse the model, a Negative R^2 is a sign of overfitting."
   ]
  },
  {
   "cell_type": "markdown",
   "metadata": {},
   "source": [
    "Let's see how the R^2 changes on the test data for different order polynomials and plot the results:"
   ]
  },
  {
   "cell_type": "code",
   "execution_count": 192,
   "metadata": {
    "collapsed": false,
    "jupyter": {
     "outputs_hidden": false
    }
   },
   "outputs": [
    {
     "name": "stdout",
     "output_type": "stream",
     "text": [
      "R2 Values for Orders 1, 2, 3, 4: [0.6978054644408849, 0.7076382887305913, 0.7021906402432648, 0.49593604809744096]\n"
     ]
    },
    {
     "data": {
      "image/png": "[encoded data removed]",
      "text/plain": [
       "<Figure size 432x288 with 1 Axes>"
      ]
     },
     "metadata": {
      "needs_background": "light"
     },
     "output_type": "display_data"
    }
   ],
   "source": [
    "Rsqu_test = []\n",
    "\n",
    "order = [1, 2, 3, 4]\n",
    "for n in order:\n",
    "    pr = PolynomialFeatures(degree=n)\n",
    "    \n",
    "    x_train_pr = pr.fit_transform(x_train[['horsepower']])\n",
    "    \n",
    "    x_test_pr = pr.fit_transform(x_test[['horsepower']])    \n",
    "    \n",
    "    lr.fit(x_train_pr, y_train)\n",
    "    \n",
    "    Rsqu_test.append(lr.score(x_test_pr, y_test))\n",
    "\n",
    "plt.plot(order, Rsqu_test)\n",
    "plt.xlabel('order')\n",
    "plt.ylabel('R^2')\n",
    "plt.title('R^2 Using Test Data')\n",
    "plt.text(3, 0.75, 'Maximum R^2 ')\n",
    "\n",
    "print(\"R2 Values for Orders 1, 2, 3, 4:\", Rsqu_test)"
   ]
  },
  {
   "cell_type": "markdown",
   "metadata": {},
   "source": [
    "We see the R^2 gradually increases until an order three polynomial is used. Then the  R^2 dramatically decreases at four."
   ]
  },
  {
   "cell_type": "markdown",
   "metadata": {},
   "source": [
    "The following function will be used in the next section; please run the cell."
   ]
  },
  {
   "cell_type": "code",
   "execution_count": 194,
   "metadata": {},
   "outputs": [],
   "source": [
    "def f(order, test_data):\n",
    "    x_train, x_test, y_train, y_test = train_test_split(x_data, y_data, test_size=test_data, random_state=0)\n",
    "    pr = PolynomialFeatures(degree=order)\n",
    "    x_train_pr = pr.fit_transform(x_train[['horsepower']])\n",
    "    x_test_pr = pr.fit_transform(x_test[['horsepower']])\n",
    "    poly = LinearRegression()\n",
    "    poly.fit(x_train_pr,y_train)\n",
    "    PollyPlot(x_train[['horsepower']], x_test[['horsepower']], y_train,y_test, poly, pr)"
   ]
  },
  {
   "cell_type": "markdown",
   "metadata": {},
   "source": [
    "The following interface allows you to experiment with different polynomial orders and different amounts of data. "
   ]
  },
  {
   "cell_type": "code",
   "execution_count": 195,
   "metadata": {
    "collapsed": false,
    "jupyter": {
     "outputs_hidden": false
    }
   },
   "outputs": [
    {
     "data": {
      "application/vnd.jupyter.widget-view+json": {
       "model_id": "3e0f1d6ccc36443bb786ccf2cb366896",
       "version_major": 2,
       "version_minor": 0
      },
      "text/plain": [
       "interactive(children=(IntSlider(value=3, description='order', max=6), FloatSlider(value=0.45, description='tes…"
      ]
     },
     "metadata": {},
     "output_type": "display_data"
    },
    {
     "data": {
      "text/plain": [
       "<function __main__.f(order, test_data)>"
      ]
     },
     "execution_count": 195,
     "metadata": {},
     "output_type": "execute_result"
    }
   ],
   "source": [
    "interact(f, order=(0, 6, 1), test_data=(0.05, 0.95, 0.05))"
   ]
  },
  {
   "cell_type": "markdown",
   "metadata": {},
   "source": [
    "<div class=\"alert alert-danger alertdanger\" style=\"margin-top: 20px\">\n",
    "<h1> Question  #4a):</h1>\n",
    "\n",
    "<b>We can perform polynomial transformations with more than one feature. Create a \"PolynomialFeatures\" object \"pr1\" of degree two?</b>\n",
    "</div>"
   ]
  },
  {
   "cell_type": "code",
   "execution_count": 196,
   "metadata": {},
   "outputs": [],
   "source": [
    "pr1=PolynomialFeatures(degree=2)"
   ]
  },
  {
   "cell_type": "markdown",
   "metadata": {},
   "source": [
    "Double-click <b>here</b> for the solution.\n",
    "\n",
    "<!-- The answer is below:\n",
    "\n",
    "pr1=PolynomialFeatures(degree=2)\n",
    "\n",
    "-->"
   ]
  },
  {
   "cell_type": "markdown",
   "metadata": {},
   "source": [
    "<div class=\"alert alert-danger alertdanger\" style=\"margin-top: 20px\">\n",
    "<h1> Question  #4b): </h1>\n",
    "\n",
    "<b> \n",
    " Transform the training and testing samples for the features 'horsepower', 'curb-weight', 'engine-size' and 'highway-mpg'. Hint: use the method \"fit_transform\" \n",
    "?</b>\n",
    "</div>"
   ]
  },
  {
   "cell_type": "code",
   "execution_count": 198,
   "metadata": {},
   "outputs": [],
   "source": [
    "x_train_pr=pr1.fit_transform(x_train[['horsepower', 'curb-weight', 'engine-size', 'highway-mpg']])\n",
    "x_test_pr=pr1.fit_transform(x_test[['horsepower', 'curb-weight', 'engine-size', 'highway-mpg']])"
   ]
  },
  {
   "cell_type": "markdown",
   "metadata": {},
   "source": [
    "Double-click <b>here</b> for the solution.\n",
    "\n",
    "<!-- The answer is below:\n",
    "\n",
    "x_train_pr1=pr.fit_transform(x_train[['horsepower', 'curb-weight', 'engine-size', 'highway-mpg']])\n",
    "\n",
    "x_test_pr1=pr.fit_transform(x_test[['horsepower', 'curb-weight', 'engine-size', 'highway-mpg']])\n",
    "\n",
    "-->"
   ]
  },
  {
   "cell_type": "markdown",
   "metadata": {},
   "source": [
    "<!-- The answer is below:\n",
    "\n",
    "x_train_pr1=pr.fit_transform(x_train[['horsepower', 'curb-weight', 'engine-size', 'highway-mpg']])\n",
    "x_test_pr1=pr.fit_transform(x_test[['horsepower', 'curb-weight', 'engine-size', 'highway-mpg']])\n",
    "\n",
    "-->"
   ]
  },
  {
   "cell_type": "markdown",
   "metadata": {},
   "source": [
    "<div class=\"alert alert-danger alertdanger\" style=\"margin-top: 20px\">\n",
    "<h1> Question  #4c): </h1>\n",
    "<b> \n",
    "How many dimensions does the new feature have? Hint: use the attribute \"shape\"\n",
    "</b>\n",
    "</div>"
   ]
  },
  {
   "cell_type": "code",
   "execution_count": 199,
   "metadata": {},
   "outputs": [
    {
     "data": {
      "text/plain": [
       "(90, 15)"
      ]
     },
     "execution_count": 199,
     "metadata": {},
     "output_type": "execute_result"
    }
   ],
   "source": [
    "x_train_pr.shape"
   ]
  },
  {
   "cell_type": "markdown",
   "metadata": {},
   "source": [
    "Double-click <b>here</b> for the solution.\n",
    "\n",
    "<!-- The answer is below:\n",
    "\n",
    "There are now 15 features: x_train_pr1.shape \n",
    "\n",
    "-->"
   ]
  },
  {
   "cell_type": "markdown",
   "metadata": {},
   "source": [
    "<div class=\"alert alert-danger alertdanger\" style=\"margin-top: 20px\">\n",
    "<h1> Question  #4d): </h1>\n",
    "\n",
    "<b> \n",
    "Create a linear regression model \"poly1\" and train the object using the method \"fit\" using the polynomial features?</b>\n",
    "</div>"
   ]
  },
  {
   "cell_type": "code",
   "execution_count": 200,
   "metadata": {},
   "outputs": [
    {
     "data": {
      "text/plain": [
       "LinearRegression(copy_X=True, fit_intercept=True, n_jobs=None,\n",
       "         normalize=False)"
      ]
     },
     "execution_count": 200,
     "metadata": {},
     "output_type": "execute_result"
    }
   ],
   "source": [
    "poly1=LinearRegression()\n",
    "poly1.fit(x_train_pr, y_train)"
   ]
  },
  {
   "cell_type": "markdown",
   "metadata": {},
   "source": [
    "Double-click <b>here</b> for the solution.\n",
    "\n",
    "<!-- The answer is below:\n",
    "\n",
    "poly1=linear_model.LinearRegression().fit(x_train_pr1,y_train)\n",
    "\n",
    "-->"
   ]
  },
  {
   "cell_type": "markdown",
   "metadata": {},
   "source": [
    " <div class=\"alert alert-danger alertdanger\" style=\"margin-top: 20px\">\n",
    "<h1> Question  #4e): </h1>\n",
    "<b>Use the method  \"predict\" to predict an output on the polynomial features, then use the function \"DistributionPlot\"  to display the distribution of the predicted output vs the test data?</b>\n",
    "</div>"
   ]
  },
  {
   "cell_type": "code",
   "execution_count": 201,
   "metadata": {},
   "outputs": [
    {
     "data": {
      "image/png": "[encoded data removed]",
      "text/plain": [
       "<Figure size 864x720 with 1 Axes>"
      ]
     },
     "metadata": {
      "needs_background": "light"
     },
     "output_type": "display_data"
    }
   ],
   "source": [
    "yhat= poly1.predict(x_test_pr)\n",
    "Title='Distribution  Plot of  Predicted Value Using Test Data vs Data Distribution of Test Data'\n",
    "DistributionPlot(y_test, yhat, \"Actual Values (Test)\", \"Predicted Values (Test)\", Title)"
   ]
  },
  {
   "cell_type": "markdown",
   "metadata": {},
   "source": [
    "Double-click <b>here</b> for the solution.\n",
    "\n",
    "<!-- The answer is below:\n",
    "\n",
    "yhat_test1=poly1.predict(x_test_pr1)\n",
    "Title='Distribution  Plot of  Predicted Value Using Test Data vs Data Distribution of Test Data'\n",
    "DistributionPlot(y_test, yhat_test1, \"Actual Values (Test)\", \"Predicted Values (Test)\", Title)\n",
    "\n",
    "-->"
   ]
  },
  {
   "cell_type": "markdown",
   "metadata": {},
   "source": [
    "<div class=\"alert alert-danger alertdanger\" style=\"margin-top: 20px\">\n",
    "<h1> Question  #4f): </h1>\n",
    "\n",
    "<b>Use the distribution plot to determine the two regions were the predicted prices are less accurate than the actual prices.</b>\n",
    "</div>"
   ]
  },
  {
   "cell_type": "code",
   "execution_count": null,
   "metadata": {},
   "outputs": [],
   "source": []
  },
  {
   "cell_type": "markdown",
   "metadata": {},
   "source": [
    "Double-click <b>here</b> for the solution.\n",
    "\n",
    "<!-- The answer is below:\n",
    "\n",
    "The predicted value is lower than actual value for cars where the price  $ 10,000 range, conversely the predicted price is larger than the price cost in the $30, 000 to $40,000 range. As such the model is not as accurate in these ranges .\n",
    "    \n",
    "-->\n",
    "\n",
    "<img src = \"https://ibm.box.com/shared/static/c35ipv9zeanu7ynsnppb8gjo2re5ugeg.png\" width = 700, align = \"center\">\n"
   ]
  },
  {
   "cell_type": "markdown",
   "metadata": {},
   "source": [
    "<h2 id=\"ref3\">Part 3: Ridge regression</h2> "
   ]
  },
  {
   "cell_type": "markdown",
   "metadata": {},
   "source": [
    " In this section, we will review Ridge Regression we will see how the parameter Alfa changes the model. Just a note here our test data will be used as validation data."
   ]
  },
  {
   "cell_type": "markdown",
   "metadata": {},
   "source": [
    " Let's perform a degree two polynomial transformation on our data. "
   ]
  },
  {
   "cell_type": "code",
   "execution_count": 202,
   "metadata": {},
   "outputs": [],
   "source": [
    "pr=PolynomialFeatures(degree=2)\n",
    "x_train_pr=pr.fit_transform(x_train[['horsepower', 'curb-weight', 'engine-size', 'highway-mpg','normalized-losses','symboling']])\n",
    "x_test_pr=pr.fit_transform(x_test[['horsepower', 'curb-weight', 'engine-size', 'highway-mpg','normalized-losses','symboling']])"
   ]
  },
  {
   "cell_type": "markdown",
   "metadata": {},
   "source": [
    " Let's import  <b>Ridge</b>  from the module <b>linear models</b>."
   ]
  },
  {
   "cell_type": "code",
   "execution_count": 203,
   "metadata": {},
   "outputs": [],
   "source": [
    "from sklearn.linear_model import Ridge"
   ]
  },
  {
   "cell_type": "markdown",
   "metadata": {},
   "source": [
    "Let's create a Ridge regression object, setting the regularization parameter to 0.1 "
   ]
  },
  {
   "cell_type": "code",
   "execution_count": 205,
   "metadata": {},
   "outputs": [],
   "source": [
    "RigeModel=Ridge(alpha=0.1)"
   ]
  },
  {
   "cell_type": "markdown",
   "metadata": {},
   "source": [
    "Like regular regression, you can fit the model using the method <b>fit</b>."
   ]
  },
  {
   "cell_type": "code",
   "execution_count": 206,
   "metadata": {
    "collapsed": false,
    "jupyter": {
     "outputs_hidden": false
    }
   },
   "outputs": [
    {
     "data": {
      "text/plain": [
       "Ridge(alpha=0.1, copy_X=True, fit_intercept=True, max_iter=None,\n",
       "   normalize=False, random_state=None, solver='auto', tol=0.001)"
      ]
     },
     "execution_count": 206,
     "metadata": {},
     "output_type": "execute_result"
    }
   ],
   "source": [
    "RigeModel.fit(x_train_pr, y_train)"
   ]
  },
  {
   "cell_type": "markdown",
   "metadata": {},
   "source": [
    " Similarly, you can obtain a prediction: "
   ]
  },
  {
   "cell_type": "code",
   "execution_count": null,
   "metadata": {
    "collapsed": false,
    "jupyter": {
     "outputs_hidden": false
    }
   },
   "outputs": [],
   "source": [
    "yhat = RigeModel.predict(x_test_pr)"
   ]
  },
  {
   "cell_type": "markdown",
   "metadata": {},
   "source": [
    "Let's compare the first five predicted samples to our test set "
   ]
  },
  {
   "cell_type": "code",
   "execution_count": 209,
   "metadata": {
    "collapsed": false,
    "jupyter": {
     "outputs_hidden": false
    }
   },
   "outputs": [
    {
     "name": "stdout",
     "output_type": "stream",
     "text": [
      "predicted: [ 6468.54462499 10156.3257448  19845.75606762 18851.20227226]\n",
      "test set : [ 6295. 10698. 13860. 13499.]\n"
     ]
    }
   ],
   "source": [
    "print('predicted:', yhat[0:4])\n",
    "print('test set :', y_test[0:4].values)"
   ]
  },
  {
   "cell_type": "markdown",
   "metadata": {},
   "source": [
    "We select the value of Alfa that minimizes the test error, for example, we can use a for loop. "
   ]
  },
  {
   "cell_type": "code",
   "execution_count": 223,
   "metadata": {
    "collapsed": false,
    "jupyter": {
     "outputs_hidden": false
    }
   },
   "outputs": [],
   "source": [
    "Rsqu_test = []\n",
    "Rsqu_train = []\n",
    "dummy1 = []\n",
    "ALFA = 10 * np.array(range(0,1000))\n",
    "for alfa in ALFA:\n",
    "    RigeModel = Ridge(alpha=alfa) \n",
    "    RigeModel.fit(x_train_pr, y_train)\n",
    "    Rsqu_test.append(RigeModel.score(x_test_pr, y_test))\n",
    "    Rsqu_train.append(RigeModel.score(x_train_pr, y_train))"
   ]
  },
  {
   "cell_type": "markdown",
   "metadata": {},
   "source": [
    "We can plot out the value of R^2 for different Alphas "
   ]
  },
  {
   "cell_type": "code",
   "execution_count": 211,
   "metadata": {
    "collapsed": false,
    "jupyter": {
     "outputs_hidden": false
    }
   },
   "outputs": [
    {
     "data": {
      "text/plain": [
       "<matplotlib.legend.Legend at 0x7f7e86ff74a8>"
      ]
     },
     "execution_count": 211,
     "metadata": {},
     "output_type": "execute_result"
    },
    {
     "data": {
      "image/png": "[encoded data removed]",
      "text/plain": [
       "<Figure size 864x720 with 1 Axes>"
      ]
     },
     "metadata": {
      "needs_background": "light"
     },
     "output_type": "display_data"
    }
   ],
   "source": [
    "width = 12\n",
    "height = 10\n",
    "plt.figure(figsize=(width, height))\n",
    "\n",
    "plt.plot(ALFA,Rsqu_test, label='validation data  ')\n",
    "plt.plot(ALFA,Rsqu_train, 'r', label='training Data ')\n",
    "plt.xlabel('alpha')\n",
    "plt.ylabel('R^2')\n",
    "plt.legend()"
   ]
  },
  {
   "cell_type": "markdown",
   "metadata": {},
   "source": [
    "Figure 6:The blue line represents the R^2 of the test data, and the red line represents the R^2 of the training data. The x-axis represents the different values of Alfa "
   ]
  },
  {
   "cell_type": "markdown",
   "metadata": {},
   "source": [
    "The red line in figure 6 represents the  R^2 of the test data, as Alpha increases the R^2 decreases; therefore as Alfa increases the model performs worse on the test data.  The blue line represents the R^2 on the validation data, as the value for Alfa increases the R^2 decreases.   "
   ]
  },
  {
   "cell_type": "markdown",
   "metadata": {},
   "source": [
    "<div class=\"alert alert-danger alertdanger\" style=\"margin-top: 20px\">\n",
    "<h1> Question  #5): </h1>\n",
    "\n",
    "Perform Ridge regression and calculate the R^2 using the polynomial features, use the training data to train the model and test data to test the model. The parameter alpha should be set to  10.\n",
    "</div>"
   ]
  },
  {
   "cell_type": "code",
   "execution_count": 251,
   "metadata": {
    "collapsed": false,
    "jupyter": {
     "outputs_hidden": false
    }
   },
   "outputs": [
    {
     "name": "stdout",
     "output_type": "stream",
     "text": [
      "Predicted Values: [ 6366.87248464  9855.95189584 18715.78322701 20327.60212583\n",
      " 21188.96036226] Actual Test Values: [ 6295. 10698. 13860. 13499. 15750.] R2 of this is: 0.5324456428345778\n"
     ]
    }
   ],
   "source": [
    "# Write your code below and press Shift+Enter to execute \n",
    "RigeModel = Ridge(alpha=10) \n",
    "RigeModel.fit(x_train_pr, y_train)\n",
    "RigeModel.score(x_test_pr, y_test)\n",
    "yhat1 = RigeModel.predict (x_test_pr)\n",
    "\n",
    "print(\"Predicted Values:\", yhat1 [0:5], \"Actual Test Values:\", y_test [0:5].values, \\\n",
    "      \"R2 of this is:\",RigeModel.score (x_test_pr, y_test))"
   ]
  },
  {
   "cell_type": "markdown",
   "metadata": {},
   "source": [
    "Double-click <b>here</b> for the solution.\n",
    "\n",
    "<!-- The answer is below:\n",
    "\n",
    "RigeModel = Ridge(alpha=0) \n",
    "RigeModel.fit(x_train_pr, y_train)\n",
    "RigeModel.score(x_test_pr, y_test)\n",
    "\n",
    "-->"
   ]
  },
  {
   "cell_type": "markdown",
   "metadata": {},
   "source": [
    "<h2 id=\"ref4\">Part 4: Grid Search</h2>"
   ]
  },
  {
   "cell_type": "markdown",
   "metadata": {},
   "source": [
    "The term Alfa is a hyperparameter, sklearn has the class  <b>GridSearchCV</b> to make the process of finding the best hyperparameter simpler."
   ]
  },
  {
   "cell_type": "markdown",
   "metadata": {},
   "source": [
    "Let's import <b>GridSearchCV</b> from  the module <b>model_selection</b>."
   ]
  },
  {
   "cell_type": "code",
   "execution_count": 252,
   "metadata": {
    "collapsed": false,
    "jupyter": {
     "outputs_hidden": false
    }
   },
   "outputs": [],
   "source": [
    "from sklearn.model_selection import GridSearchCV"
   ]
  },
  {
   "cell_type": "markdown",
   "metadata": {},
   "source": [
    "We create a dictionary of parameter values:"
   ]
  },
  {
   "cell_type": "code",
   "execution_count": 256,
   "metadata": {
    "collapsed": false,
    "jupyter": {
     "outputs_hidden": false
    }
   },
   "outputs": [
    {
     "data": {
      "text/plain": [
       "[{'alpha': [0.001, 0.1, 1, 10, 100, 1000, 10000, 100000, 100000]}]"
      ]
     },
     "execution_count": 256,
     "metadata": {},
     "output_type": "execute_result"
    }
   ],
   "source": [
    "parameters1= [{'alpha': [0.001,0.1,1, 10, 100, 1000, 10000, 100000, 100000]}]\n",
    "parameters1"
   ]
  },
  {
   "cell_type": "markdown",
   "metadata": {},
   "source": [
    "Create a ridge regions object:"
   ]
  },
  {
   "cell_type": "code",
   "execution_count": 257,
   "metadata": {
    "collapsed": false,
    "jupyter": {
     "outputs_hidden": false
    }
   },
   "outputs": [
    {
     "data": {
      "text/plain": [
       "Ridge(alpha=1.0, copy_X=True, fit_intercept=True, max_iter=None,\n",
       "   normalize=False, random_state=None, solver='auto', tol=0.001)"
      ]
     },
     "execution_count": 257,
     "metadata": {},
     "output_type": "execute_result"
    }
   ],
   "source": [
    "RR=Ridge()\n",
    "RR"
   ]
  },
  {
   "cell_type": "markdown",
   "metadata": {},
   "source": [
    "Create a ridge grid search object "
   ]
  },
  {
   "cell_type": "code",
   "execution_count": 258,
   "metadata": {
    "collapsed": false,
    "jupyter": {
     "outputs_hidden": false
    }
   },
   "outputs": [],
   "source": [
    "Grid1 = GridSearchCV(RR, parameters1,cv=4)"
   ]
  },
  {
   "cell_type": "markdown",
   "metadata": {},
   "source": [
    "Fit the model "
   ]
  },
  {
   "cell_type": "code",
   "execution_count": 259,
   "metadata": {
    "collapsed": false,
    "jupyter": {
     "outputs_hidden": false
    }
   },
   "outputs": [
    {
     "name": "stderr",
     "output_type": "stream",
     "text": [
      "/home/jupyterlab/conda/envs/python/lib/python3.6/site-packages/sklearn/model_selection/_search.py:841: DeprecationWarning: The default of the `iid` parameter will change from True to False in version 0.22 and will be removed in 0.24. This will change numeric results when test-set sizes are unequal.\n",
      "  DeprecationWarning)\n"
     ]
    },
    {
     "data": {
      "text/plain": [
       "GridSearchCV(cv=4, error_score='raise-deprecating',\n",
       "       estimator=Ridge(alpha=1.0, copy_X=True, fit_intercept=True, max_iter=None,\n",
       "   normalize=False, random_state=None, solver='auto', tol=0.001),\n",
       "       fit_params=None, iid='warn', n_jobs=None,\n",
       "       param_grid=[{'alpha': [0.001, 0.1, 1, 10, 100, 1000, 10000, 100000, 100000]}],\n",
       "       pre_dispatch='2*n_jobs', refit=True, return_train_score='warn',\n",
       "       scoring=None, verbose=0)"
      ]
     },
     "execution_count": 259,
     "metadata": {},
     "output_type": "execute_result"
    }
   ],
   "source": [
    "P=x_data[['horsepower', 'curb-weight', 'engine-size', 'highway-mpg']]\n",
    "F=y_data\n",
    "\n",
    "Grid1.fit(P,F)"
   ]
  },
  {
   "cell_type": "markdown",
   "metadata": {},
   "source": [
    "The object finds the best parameter values on the validation data. We can obtain the estimator with the best parameters and assign it to the variable BestRR as follows:"
   ]
  },
  {
   "cell_type": "code",
   "execution_count": 260,
   "metadata": {
    "collapsed": false,
    "jupyter": {
     "outputs_hidden": false
    }
   },
   "outputs": [
    {
     "data": {
      "text/plain": [
       "Ridge(alpha=10000, copy_X=True, fit_intercept=True, max_iter=None,\n",
       "   normalize=False, random_state=None, solver='auto', tol=0.001)"
      ]
     },
     "execution_count": 260,
     "metadata": {},
     "output_type": "execute_result"
    }
   ],
   "source": [
    "BestRR=Grid1.best_estimator_\n",
    "BestRR"
   ]
  },
  {
   "cell_type": "markdown",
   "metadata": {},
   "source": [
    " We now test our model on the test data "
   ]
  },
  {
   "cell_type": "code",
   "execution_count": 261,
   "metadata": {
    "collapsed": false,
    "jupyter": {
     "outputs_hidden": false
    }
   },
   "outputs": [
    {
     "data": {
      "text/plain": [
       "0.8387851308772891"
      ]
     },
     "execution_count": 261,
     "metadata": {},
     "output_type": "execute_result"
    }
   ],
   "source": [
    "BestRR.score(x_test[['horsepower', 'curb-weight', 'engine-size', 'highway-mpg']], y_test)"
   ]
  },
  {
   "cell_type": "markdown",
   "metadata": {},
   "source": [
    "<div class=\"alert alert-danger alertdanger\" style=\"margin-top: 20px\">\n",
    "<h1> Question  #6): </h1>\n",
    "Perform a grid search for the alpha parameter and the normalization parameter, then find the best values of the parameters\n",
    "</div>"
   ]
  },
  {
   "cell_type": "code",
   "execution_count": 265,
   "metadata": {
    "collapsed": false,
    "jupyter": {
     "outputs_hidden": false
    }
   },
   "outputs": [
    {
     "name": "stderr",
     "output_type": "stream",
     "text": [
      "/home/jupyterlab/conda/envs/python/lib/python3.6/site-packages/sklearn/model_selection/_search.py:841: DeprecationWarning: The default of the `iid` parameter will change from True to False in version 0.22 and will be removed in 0.24. This will change numeric results when test-set sizes are unequal.\n",
      "  DeprecationWarning)\n"
     ]
    },
    {
     "data": {
      "text/plain": [
       "Ridge(alpha=0.1, copy_X=True, fit_intercept=True, max_iter=None,\n",
       "   normalize=True, random_state=None, solver='auto', tol=0.001)"
      ]
     },
     "execution_count": 265,
     "metadata": {},
     "output_type": "execute_result"
    }
   ],
   "source": [
    "# Write your code below and press Shift+Enter to execute \n",
    "parameters2= [{'alpha': [0.001,0.1,1, 10, 100, 1000, 10000, 100000, 100000],'normalize':[True,False]}]\n",
    "Grid2=GridSearchCV(RR, parameters2,cv=4)\n",
    "Grid2.fit(x_data[['horsepower','curb-weight','engine-size','highway-mpg']],y_data)\n",
    "Grid2.best_estimator_"
   ]
  },
  {
   "cell_type": "markdown",
   "metadata": {},
   "source": [
    "Double-click <b>here</b> for the solution.\n",
    "\n",
    "<!-- The answer is below:\n",
    "\n",
    "parameters2= [{'alpha': [0.001,0.1,1, 10, 100, 1000,10000,100000,100000],'normalize':[True,False]} ]\n",
    "Grid2 = GridSearchCV(Ridge(), parameters2,cv=4)\n",
    "Grid2.fit(x_data[['horsepower', 'curb-weight', 'engine-size', 'highway-mpg']],y_data)\n",
    "Grid2.best_estimator_\n",
    "\n",
    "-->"
   ]
  },
  {
   "cell_type": "markdown",
   "metadata": {},
   "source": [
    "<h1>Thank you for completing this notebook!</h1>"
   ]
  },
  {
   "cell_type": "markdown",
   "metadata": {},
   "source": [
    "<div class=\"alert alert-block alert-info\" style=\"margin-top: 20px\">\n",
    "\n",
    "    <p><a href=\"https://cocl.us/corsera_da0101en_notebook_bottom\"><img src=\"https://s3-api.us-geo.objectstorage.softlayer.net/cf-courses-data/CognitiveClass/DA0101EN/Images/BottomAd.png\" width=\"750\" align=\"center\"></a></p>\n",
    "</div>\n"
   ]
  },
  {
   "cell_type": "markdown",
   "metadata": {},
   "source": [
    "<h3>About the Authors:</h3>\n",
    "\n",
    "This notebook was written by <a href=\"https://www.linkedin.com/in/mahdi-noorian-58219234/\" target=\"_blank\">Mahdi Noorian PhD</a>, <a href=\"https://www.linkedin.com/in/joseph-s-50398b136/\" target=\"_blank\">Joseph Santarcangelo</a>, Bahare Talayian, Eric Xiao, Steven Dong, Parizad, Hima Vsudevan and <a href=\"https://www.linkedin.com/in/fiorellawever/\" target=\"_blank\">Fiorella Wenver</a> and <a href=\" https://www.linkedin.com/in/yi-leng-yao-84451275/ \" target=\"_blank\" >Yi Yao</a>.\n",
    "\n",
    "<p><a href=\"https://www.linkedin.com/in/joseph-s-50398b136/\" target=\"_blank\">Joseph Santarcangelo</a> is a Data Scientist at IBM, and holds a PhD in Electrical Engineering. His research focused on using Machine Learning, Signal Processing, and Computer Vision to determine how videos impact human cognition. Joseph has been working for IBM since he completed his PhD.</p>"
   ]
  },
  {
   "cell_type": "markdown",
   "metadata": {},
   "source": [
    "<hr>\n",
    "<p>Copyright &copy; 2018 IBM Developer Skills Network. This notebook and its source code are released under the terms of the <a href=\"https://cognitiveclass.ai/mit-license/\">MIT License</a>.</p>"
   ]
  }
 ],
 "metadata": {
  "anaconda-cloud": {},
  "kernelspec": {
   "display_name": "Python",
   "language": "python",
   "name": "conda-env-python-py"
  },
  "language_info": {
   "codemirror_mode": {
    "name": "ipython",
    "version": 3
   },
   "file_extension": ".py",
   "mimetype": "text/x-python",
   "name": "python",
   "nbconvert_exporter": "python",
   "pygments_lexer": "ipython3",
   "version": "3.6.11"
  }
 },
 "nbformat": 4,
 "nbformat_minor": 4
}
